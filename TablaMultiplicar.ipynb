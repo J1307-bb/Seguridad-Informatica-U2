{
 "cells": [
  {
   "cell_type": "markdown",
   "id": "d9989155",
   "metadata": {},
   "source": [
    "# Actividad"
   ]
  },
  {
   "cell_type": "code",
   "execution_count": null,
   "id": "26fbac99",
   "metadata": {},
   "outputs": [],
   "source": [
    "# Tabla de multiplicar infinita\n",
    "\n",
    "# inicio_rango = 1\n",
    "# final_rango = 3\n",
    "# inicio_tabla = 5\n",
    "# final_tabla = 7\n",
    "\n",
    "1 x 5 = 5\n",
    "1 x 6 = 6\n",
    "1 x 7 = 7\n",
    "\n",
    "2 x 5 = 10\n",
    "2 x 6 = 12\n",
    "2 x 7 = 14\n",
    "\n",
    "3 x 5 = 15\n",
    "3 x 6 = 18\n",
    "3 x 7 = 21"
   ]
  },
  {
   "cell_type": "code",
   "execution_count": 1,
   "id": "85cae30c",
   "metadata": {},
   "outputs": [
    {
     "name": "stdout",
     "output_type": "stream",
     "text": [
      "¿Desde que numero quieres que empiece la tabla?: 1\n",
      "¿Hasta donde terminara la tabla?:3\n",
      "¿Desde que numero se empezara a multiplicar?: 5\n",
      "¿Y hasta que numero terminara de multiplicar?: 7\n",
      "1 x 5 = 5\n",
      "1 x 6 = 6\n",
      "1 x 7 = 7\n",
      "2 x 5 = 10\n",
      "2 x 6 = 12\n",
      "2 x 7 = 14\n",
      "3 x 5 = 15\n",
      "3 x 6 = 18\n",
      "3 x 7 = 21\n"
     ]
    }
   ],
   "source": [
    "inicio_rango = int(input(\"¿Desde que numero quieres que empiece la tabla?: \"))\n",
    "final_rango = int(input(\"¿Hasta donde terminara la tabla?:\"))\n",
    "inicio_tabla = int(input(\"¿Desde que numero se empezara a multiplicar?: \"))\n",
    "final_tabla = int(input(\"¿Y hasta que numero terminara de multiplicar?: \"))\n",
    "\n",
    "for i in range(inicio_rango, final_rango+1):\n",
    "    for j in range(inicio_tabla, final_tabla+1):\n",
    "        print(i,f\"x {j} = {i*j}\")"
   ]
  }
 ],
 "metadata": {
  "kernelspec": {
   "display_name": "Python 3 (ipykernel)",
   "language": "python",
   "name": "python3"
  },
  "language_info": {
   "codemirror_mode": {
    "name": "ipython",
    "version": 3
   },
   "file_extension": ".py",
   "mimetype": "text/x-python",
   "name": "python",
   "nbconvert_exporter": "python",
   "pygments_lexer": "ipython3",
   "version": "3.11.4"
  }
 },
 "nbformat": 4,
 "nbformat_minor": 5
}
