{
 "cells": [
  {
   "cell_type": "code",
   "execution_count": 1,
   "id": "7f6f045a",
   "metadata": {},
   "outputs": [],
   "source": [
    "miPersona = {\n",
    "    \"nombre\": \"Edgar Jair\",\n",
    "    \"apePaterno\": \"Badillo\",\n",
    "    \"apeMaterno\": \"Bañuelos\",\n",
    "    \"edad\": 22,\n",
    "    \"ciudad\": \"Cancun\",\n",
    "    \"altura\": 1.62,\n",
    "    \"peso\": 70\n",
    "}"
   ]
  },
  {
   "cell_type": "code",
   "execution_count": 2,
   "id": "11340849",
   "metadata": {},
   "outputs": [],
   "source": [
    "# Funcion que determine IMS y Niveles de peso\n",
    "\n",
    "def calculadora(miPersona):\n",
    "    nombre = miPersona[\"nombre\"]\n",
    "    peso = miPersona[\"peso\"]\n",
    "    altura = miPersona[\"altura\"]**2\n",
    "    IMC = peso / altura\n",
    "    InMaCo = round(IMC, 2)\n",
    "    \n",
    "    if IMC >= 30:\n",
    "        nivelPeso = \"Obesidad\"\n",
    "    elif IMC >= 25:\n",
    "        nivelPeso = \"Sobrepeso\"\n",
    "    elif IMC > 18.5:\n",
    "        nivelPeso = \"Normal\"\n",
    "    else:\n",
    "        nivelPeso = \"Bajo peso\"\n",
    "        \n",
    "    print(f\"Hola {nombre}, tu IMC es de {InMaCo} y tu peso se considera como: {nivelPeso}\")"
   ]
  },
  {
   "cell_type": "code",
   "execution_count": 3,
   "id": "9160f2cd",
   "metadata": {},
   "outputs": [
    {
     "name": "stdout",
     "output_type": "stream",
     "text": [
      "Hola Edgar Jair, tu IMC es de 26.67 y tu peso se considera como: Sobrepeso\n"
     ]
    }
   ],
   "source": [
    "calculadora(miPersona)"
   ]
  }
 ],
 "metadata": {
  "kernelspec": {
   "display_name": "Python 3 (ipykernel)",
   "language": "python",
   "name": "python3"
  },
  "language_info": {
   "codemirror_mode": {
    "name": "ipython",
    "version": 3
   },
   "file_extension": ".py",
   "mimetype": "text/x-python",
   "name": "python",
   "nbconvert_exporter": "python",
   "pygments_lexer": "ipython3",
   "version": "3.11.4"
  }
 },
 "nbformat": 4,
 "nbformat_minor": 5
}
