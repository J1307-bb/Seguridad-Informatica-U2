{
 "cells": [
  {
   "cell_type": "code",
   "execution_count": null,
   "id": "6b635a73",
   "metadata": {},
   "outputs": [],
   "source": [
    "#Abrir un archivo PDF, WORD y EXCEL"
   ]
  },
  {
   "cell_type": "code",
   "execution_count": 8,
   "id": "1f9dda4c",
   "metadata": {},
   "outputs": [
    {
     "name": "stdout",
     "output_type": "stream",
     "text": [
      "Collecting PyPDF2\n",
      "  Downloading pypdf2-3.0.1-py3-none-any.whl (232 kB)\n",
      "     ---------------------------------------- 0.0/232.6 kB ? eta -:--:--\n",
      "     ----- --------------------------------- 30.7/232.6 kB 1.4 MB/s eta 0:00:01\n",
      "     ------------------ ------------------- 112.6/232.6 kB 1.3 MB/s eta 0:00:01\n",
      "     ------------------------------------ - 225.3/232.6 kB 1.5 MB/s eta 0:00:01\n",
      "     -------------------------------------- 232.6/232.6 kB 1.4 MB/s eta 0:00:00\n",
      "Installing collected packages: PyPDF2\n",
      "Successfully installed PyPDF2-3.0.1\n",
      "Note: you may need to restart the kernel to use updated packages.\n"
     ]
    }
   ],
   "source": [
    "pip install PyPDF2"
   ]
  },
  {
   "cell_type": "code",
   "execution_count": 9,
   "id": "252129f1",
   "metadata": {},
   "outputs": [
    {
     "name": "stdout",
     "output_type": "stream",
     "text": [
      "Pagina #1:\n",
      "Apoco si tili? Si ti lin, ac epto. \n"
     ]
    }
   ],
   "source": [
    "import PyPDF2\n",
    "\n",
    "with open('ejemplo.pdf', 'rb') as pdf:\n",
    "\n",
    "    pdf_resultado = PyPDF2.PdfReader(pdf)\n",
    "\n",
    "    num_paginas = len(pdf_resultado.pages)\n",
    "\n",
    "    for num_pagina in range(num_paginas):\n",
    "        pagina = pdf_reader.pages[num_pagina]\n",
    "        text = pagina.extract_text()\n",
    "        print(f\"Pagina #{num_pagina + 1}:\\n{text}\")"
   ]
  },
  {
   "cell_type": "code",
   "execution_count": 6,
   "id": "d4205d32",
   "metadata": {},
   "outputs": [
    {
     "name": "stdout",
     "output_type": "stream",
     "text": [
      "Requirement already satisfied: pandas in c:\\users\\edgar\\anaconda3\\lib\\site-packages (1.5.3)\n",
      "Requirement already satisfied: python-dateutil>=2.8.1 in c:\\users\\edgar\\anaconda3\\lib\\site-packages (from pandas) (2.8.2)\n",
      "Requirement already satisfied: pytz>=2020.1 in c:\\users\\edgar\\anaconda3\\lib\\site-packages (from pandas) (2022.7)\n",
      "Requirement already satisfied: numpy>=1.21.0 in c:\\users\\edgar\\anaconda3\\lib\\site-packages (from pandas) (1.24.3)\n",
      "Requirement already satisfied: six>=1.5 in c:\\users\\edgar\\anaconda3\\lib\\site-packages (from python-dateutil>=2.8.1->pandas) (1.16.0)\n",
      "Note: you may need to restart the kernel to use updated packages.\n"
     ]
    }
   ],
   "source": [
    "pip install pandas"
   ]
  },
  {
   "cell_type": "code",
   "execution_count": 10,
   "id": "e1742b0c",
   "metadata": {},
   "outputs": [
    {
     "name": "stdout",
     "output_type": "stream",
     "text": [
      "                                          Unnamed: 0          Unnamed: 1  \\\n",
      "0                                         Asignatura  Calificación final   \n",
      "1                   DSMSEP18/IRDSEP18 ÁLGEBRA LINEAL                  91   \n",
      "2  DSMSEP18/IRDSEP18 DESARROLLO DE HABILIDADES DE...               82.33   \n",
      "3                DSMSEP18/IRDSEP18 FUNDAMENTOS DE TI               96.67   \n",
      "4             DSMSEP18/IRDSEP18 FUNDAMENTOS DE REDES                88.8   \n",
      "\n",
      "  Unnamed: 2  PROMEDIO  Unnamed: 4       Unnamed: 5 Unnamed: 6  \n",
      "0      Letra  91.12625         NaN  1° Cuatrimestre   91.12625  \n",
      "1         DE       NaN         NaN  2° Cuatrimestre   93.95625  \n",
      "2         SA       NaN         NaN  3° Cuatrimestre    91.2575  \n",
      "3         AU       NaN         NaN  4° Cuatrimestre     88.395  \n",
      "4         DE       NaN         NaN  5° Cuatrimestre  86.822857  \n"
     ]
    }
   ],
   "source": [
    "import pandas as panda\n",
    "\n",
    "excel = panda.read_excel('Promedios.xlsx')\n",
    "\n",
    "print(excel.head())"
   ]
  },
  {
   "cell_type": "code",
   "execution_count": 8,
   "id": "92485824",
   "metadata": {
    "scrolled": true
   },
   "outputs": [
    {
     "name": "stdout",
     "output_type": "stream",
     "text": [
      "Collecting python-docxNote: you may need to restart the kernel to use updated packages.\n",
      "\n",
      "  Obtaining dependency information for python-docx from https://files.pythonhosted.org/packages/ea/82/ddb60b44c6e39a74bd406fab7d7c102ce7dfca2dff9515dfd6edc7d25f1e/python_docx-1.0.1-py3-none-any.whl.metadata\n",
      "  Downloading python_docx-1.0.1-py3-none-any.whl.metadata (2.0 kB)\n",
      "Requirement already satisfied: lxml>=3.1.0 in c:\\users\\edgar\\anaconda3\\lib\\site-packages (from python-docx) (4.9.2)\n",
      "Requirement already satisfied: typing-extensions in c:\\users\\edgar\\anaconda3\\lib\\site-packages (from python-docx) (4.7.1)\n",
      "Downloading python_docx-1.0.1-py3-none-any.whl (237 kB)\n",
      "   ---------------------------------------- 0.0/237.4 kB ? eta -:--:--\n",
      "   - -------------------------------------- 10.2/237.4 kB ? eta -:--:--\n",
      "   ----- --------------------------------- 30.7/237.4 kB 325.1 kB/s eta 0:00:01\n",
      "   ----------- --------------------------- 71.7/237.4 kB 491.5 kB/s eta 0:00:01\n",
      "   ---------------------- --------------- 143.4/237.4 kB 708.1 kB/s eta 0:00:01\n",
      "   ---------------------------------------  235.5/237.4 kB 1.0 MB/s eta 0:00:01\n",
      "   -------------------------------------- 237.4/237.4 kB 970.9 kB/s eta 0:00:00\n",
      "Installing collected packages: python-docx\n",
      "Successfully installed python-docx-1.0.1\n"
     ]
    }
   ],
   "source": [
    "pip install python-docx"
   ]
  },
  {
   "cell_type": "code",
   "execution_count": 11,
   "id": "8acd69a3",
   "metadata": {
    "scrolled": false
   },
   "outputs": [
    {
     "name": "stdout",
     "output_type": "stream",
     "text": [
      "Servicios que ofrecen \n",
      "Nuestro principal servicio sería el diseño, desarrollo y mantenimiento de la aplicación web y la aplicación móvil relacionada. Esto incluiría la creación de interfaces de usuario atractivas, la implementación de funcionalidades clave, la gestión de bases de datos, la seguridad de datos y la optimización del rendimiento de la plataforma.\n",
      "\n",
      "Sector en donde se ofrecen servicios\n",
      "Ofrecemos servicios en el sector de la tecnología y desarrollo de software, específicamente enfocados en el sector de eventos y catering. Nuestro enfoque es proporcionar soluciones tecnológicas para empresas que operan en la industria de banquetes y eventos.\n",
      "\n",
      "¿Cuál sería la logística para brindar los servicios?\n",
      "La logística para brindar nuestros servicios de desarrollo de aplicaciones web y móviles involucra varios pasos clave:\n",
      "Requisitos y diseño: Trabajar en estrecha colaboración con el cliente para comprender sus necesidades y objetivos, y diseñar una solución que cumpla con esos requisitos.\n",
      "Desarrollo: Crear la aplicación web y móvil, incluyendo la programación, la implementación de características, la gestión de bases de datos y la integración de sistemas de pago si es necesario.\n",
      "Pruebas y control de calidad: Realizar pruebas exhaustivas para garantizar que la aplicación sea funcional, segura y libre de errores.\n",
      "Implementación: Lanzar la aplicación en un entorno de producción y realizar un seguimiento continuo del rendimiento.\n",
      "Mantenimiento: Proporcionar actualizaciones, correcciones de errores y mejoras a lo largo del tiempo, así como garantizar la seguridad y la escalabilidad de la plataforma.\n",
      "Colaboración con otros socios y proveedores: En el contexto del negocio de banquetes, podríamos colaborar con proveedores de alimentos y bebidas para integrar sus servicios en la plataforma.|\n"
     ]
    }
   ],
   "source": [
    "from docx import Document\n",
    "\n",
    "resultado_documento = Document('Servicios.docx')\n",
    "\n",
    "for parrafo in resultado_documento.paragraphs:\n",
    "    print(parrafo.text)"
   ]
  }
 ],
 "metadata": {
  "kernelspec": {
   "display_name": "Python 3 (ipykernel)",
   "language": "python",
   "name": "python3"
  },
  "language_info": {
   "codemirror_mode": {
    "name": "ipython",
    "version": 3
   },
   "file_extension": ".py",
   "mimetype": "text/x-python",
   "name": "python",
   "nbconvert_exporter": "python",
   "pygments_lexer": "ipython3",
   "version": "3.11.4"
  }
 },
 "nbformat": 4,
 "nbformat_minor": 5
}
