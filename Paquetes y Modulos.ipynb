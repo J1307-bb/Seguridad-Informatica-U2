{
 "cells": [
  {
   "cell_type": "code",
   "execution_count": 1,
   "id": "0b105cfb",
   "metadata": {
    "scrolled": true
   },
   "outputs": [],
   "source": [
    "from mipaquete import IMC, saludo, area_circulo, promedio, maximo_minimo"
   ]
  },
  {
   "cell_type": "code",
   "execution_count": 11,
   "id": "5313d756",
   "metadata": {
    "scrolled": true
   },
   "outputs": [
    {
     "name": "stdout",
     "output_type": "stream",
     "text": [
      "Hola Edgar Jair, tu IMC es de 26.67 y tu peso se considera como: Sobrepeso\n"
     ]
    }
   ],
   "source": [
    "miPersona = {\n",
    "    \"nombre\": \"Edgar Jair\",\n",
    "    \"apePaterno\": \"Badillo\",\n",
    "    \"apeMaterno\": \"Bañuelos\",\n",
    "    \"edad\": 22,\n",
    "    \"ciudad\": \"Cancun\",\n",
    "    \"altura\": 1.62,\n",
    "    \"peso\": 70\n",
    "}\n",
    "\n",
    "IMC.calculadora(miPersona)"
   ]
  },
  {
   "cell_type": "code",
   "execution_count": 12,
   "id": "d154421d",
   "metadata": {
    "scrolled": true
   },
   "outputs": [
    {
     "name": "stdout",
     "output_type": "stream",
     "text": [
      "Hola Jose Perez Medina, es un placer conocerte\n"
     ]
    }
   ],
   "source": [
    "saludo.saludar(\"Jose\", \"Perez\", \"Medina\")"
   ]
  },
  {
   "cell_type": "code",
   "execution_count": 13,
   "id": "e0f91619",
   "metadata": {
    "scrolled": true
   },
   "outputs": [
    {
     "name": "stdout",
     "output_type": "stream",
     "text": [
      "¿Cual es el radio de tu circulo?13\n",
      "El radio de tu circulo es de: 530.66\n"
     ]
    }
   ],
   "source": [
    "area_circulo.area()"
   ]
  },
  {
   "cell_type": "code",
   "execution_count": 2,
   "id": "e5b9f813",
   "metadata": {
    "scrolled": false
   },
   "outputs": [
    {
     "name": "stdout",
     "output_type": "stream",
     "text": [
      "Ingresa el numero de materias a promediar:3\n",
      "Ingresa la calificacion #110\n",
      "Ingresa la calificacion #29\n",
      "Ingresa la calificacion #38\n",
      "Tu promedio es de: 9.0 😎\n"
     ]
    }
   ],
   "source": [
    "promedio.promediar()"
   ]
  },
  {
   "cell_type": "code",
   "execution_count": 2,
   "id": "5d495c96",
   "metadata": {},
   "outputs": [
    {
     "name": "stdout",
     "output_type": "stream",
     "text": [
      "El numero maximo de la lista es: 20\n"
     ]
    }
   ],
   "source": [
    "lista = [10, 8, 11, 20, 15, 12]\n",
    "\n",
    "maximo_minimo.encontrar(lista)"
   ]
  }
 ],
 "metadata": {
  "kernelspec": {
   "display_name": "Python 3 (ipykernel)",
   "language": "python",
   "name": "python3"
  },
  "language_info": {
   "codemirror_mode": {
    "name": "ipython",
    "version": 3
   },
   "file_extension": ".py",
   "mimetype": "text/x-python",
   "name": "python",
   "nbconvert_exporter": "python",
   "pygments_lexer": "ipython3",
   "version": "3.11.4"
  }
 },
 "nbformat": 4,
 "nbformat_minor": 5
}
